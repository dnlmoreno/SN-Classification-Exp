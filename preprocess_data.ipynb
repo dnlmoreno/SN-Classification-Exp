{
 "cells": [
  {
   "cell_type": "code",
   "execution_count": 1,
   "metadata": {},
   "outputs": [],
   "source": [
    "import pandas as pd"
   ]
  },
  {
   "cell_type": "code",
   "execution_count": 2,
   "metadata": {},
   "outputs": [
    {
     "data": {
      "text/html": [
       "<div>\n",
       "<style scoped>\n",
       "    .dataframe tbody tr th:only-of-type {\n",
       "        vertical-align: middle;\n",
       "    }\n",
       "\n",
       "    .dataframe tbody tr th {\n",
       "        vertical-align: top;\n",
       "    }\n",
       "\n",
       "    .dataframe thead th {\n",
       "        text-align: right;\n",
       "    }\n",
       "</style>\n",
       "<table border=\"1\" class=\"dataframe\">\n",
       "  <thead>\n",
       "    <tr style=\"text-align: right;\">\n",
       "      <th></th>\n",
       "      <th>oid</th>\n",
       "      <th>mjd</th>\n",
       "      <th>ra</th>\n",
       "      <th>dec</th>\n",
       "      <th>fid</th>\n",
       "      <th>flux_tot_ujy</th>\n",
       "      <th>fluxunc_tot_ujy_resc</th>\n",
       "      <th>alerceclass</th>\n",
       "    </tr>\n",
       "  </thead>\n",
       "  <tbody>\n",
       "    <tr>\n",
       "      <th>91</th>\n",
       "      <td>ZTF18aaaqexr</td>\n",
       "      <td>58886.439456</td>\n",
       "      <td>175.776546</td>\n",
       "      <td>15.567160</td>\n",
       "      <td>g</td>\n",
       "      <td>733.608232</td>\n",
       "      <td>7.126595</td>\n",
       "      <td>SNIa</td>\n",
       "    </tr>\n",
       "    <tr>\n",
       "      <th>92</th>\n",
       "      <td>ZTF18aaaqexr</td>\n",
       "      <td>58891.320255</td>\n",
       "      <td>175.776546</td>\n",
       "      <td>15.567160</td>\n",
       "      <td>r</td>\n",
       "      <td>1504.452801</td>\n",
       "      <td>10.895416</td>\n",
       "      <td>SNIa</td>\n",
       "    </tr>\n",
       "    <tr>\n",
       "      <th>93</th>\n",
       "      <td>ZTF18aaaqexr</td>\n",
       "      <td>58891.420880</td>\n",
       "      <td>175.776546</td>\n",
       "      <td>15.567160</td>\n",
       "      <td>g</td>\n",
       "      <td>796.023260</td>\n",
       "      <td>10.651924</td>\n",
       "      <td>SNIa</td>\n",
       "    </tr>\n",
       "    <tr>\n",
       "      <th>94</th>\n",
       "      <td>ZTF18aaaqexr</td>\n",
       "      <td>58894.353704</td>\n",
       "      <td>175.776546</td>\n",
       "      <td>15.567160</td>\n",
       "      <td>g</td>\n",
       "      <td>772.638964</td>\n",
       "      <td>4.406099</td>\n",
       "      <td>SNIa</td>\n",
       "    </tr>\n",
       "    <tr>\n",
       "      <th>95</th>\n",
       "      <td>ZTF18aaaqexr</td>\n",
       "      <td>58894.468345</td>\n",
       "      <td>175.776546</td>\n",
       "      <td>15.567160</td>\n",
       "      <td>r</td>\n",
       "      <td>1487.203851</td>\n",
       "      <td>4.759942</td>\n",
       "      <td>SNIa</td>\n",
       "    </tr>\n",
       "    <tr>\n",
       "      <th>...</th>\n",
       "      <td>...</td>\n",
       "      <td>...</td>\n",
       "      <td>...</td>\n",
       "      <td>...</td>\n",
       "      <td>...</td>\n",
       "      <td>...</td>\n",
       "      <td>...</td>\n",
       "      <td>...</td>\n",
       "    </tr>\n",
       "    <tr>\n",
       "      <th>917930</th>\n",
       "      <td>ZTF21abidtrd</td>\n",
       "      <td>59405.317500</td>\n",
       "      <td>283.249749</td>\n",
       "      <td>28.959674</td>\n",
       "      <td>g</td>\n",
       "      <td>506.245423</td>\n",
       "      <td>8.319171</td>\n",
       "      <td>SNIa</td>\n",
       "    </tr>\n",
       "    <tr>\n",
       "      <th>917931</th>\n",
       "      <td>ZTF21abidtrd</td>\n",
       "      <td>59407.281354</td>\n",
       "      <td>283.249749</td>\n",
       "      <td>28.959674</td>\n",
       "      <td>g</td>\n",
       "      <td>487.892594</td>\n",
       "      <td>8.267767</td>\n",
       "      <td>SNIa</td>\n",
       "    </tr>\n",
       "    <tr>\n",
       "      <th>917932</th>\n",
       "      <td>ZTF21abidtrd</td>\n",
       "      <td>59407.317176</td>\n",
       "      <td>283.249749</td>\n",
       "      <td>28.959674</td>\n",
       "      <td>r</td>\n",
       "      <td>870.134863</td>\n",
       "      <td>9.425640</td>\n",
       "      <td>SNIa</td>\n",
       "    </tr>\n",
       "    <tr>\n",
       "      <th>917933</th>\n",
       "      <td>ZTF21abidtrd</td>\n",
       "      <td>59409.296111</td>\n",
       "      <td>283.249749</td>\n",
       "      <td>28.959674</td>\n",
       "      <td>r</td>\n",
       "      <td>862.413520</td>\n",
       "      <td>9.234165</td>\n",
       "      <td>SNIa</td>\n",
       "    </tr>\n",
       "    <tr>\n",
       "      <th>917934</th>\n",
       "      <td>ZTF21abidtrd</td>\n",
       "      <td>59409.333646</td>\n",
       "      <td>283.249749</td>\n",
       "      <td>28.959674</td>\n",
       "      <td>g</td>\n",
       "      <td>479.596502</td>\n",
       "      <td>9.483954</td>\n",
       "      <td>SNIa</td>\n",
       "    </tr>\n",
       "  </tbody>\n",
       "</table>\n",
       "<p>321392 rows × 8 columns</p>\n",
       "</div>"
      ],
      "text/plain": [
       "                 oid           mjd          ra        dec fid  flux_tot_ujy  \\\n",
       "91      ZTF18aaaqexr  58886.439456  175.776546  15.567160   g    733.608232   \n",
       "92      ZTF18aaaqexr  58891.320255  175.776546  15.567160   r   1504.452801   \n",
       "93      ZTF18aaaqexr  58891.420880  175.776546  15.567160   g    796.023260   \n",
       "94      ZTF18aaaqexr  58894.353704  175.776546  15.567160   g    772.638964   \n",
       "95      ZTF18aaaqexr  58894.468345  175.776546  15.567160   r   1487.203851   \n",
       "...              ...           ...         ...        ...  ..           ...   \n",
       "917930  ZTF21abidtrd  59405.317500  283.249749  28.959674   g    506.245423   \n",
       "917931  ZTF21abidtrd  59407.281354  283.249749  28.959674   g    487.892594   \n",
       "917932  ZTF21abidtrd  59407.317176  283.249749  28.959674   r    870.134863   \n",
       "917933  ZTF21abidtrd  59409.296111  283.249749  28.959674   r    862.413520   \n",
       "917934  ZTF21abidtrd  59409.333646  283.249749  28.959674   g    479.596502   \n",
       "\n",
       "        fluxunc_tot_ujy_resc alerceclass  \n",
       "91                  7.126595        SNIa  \n",
       "92                 10.895416        SNIa  \n",
       "93                 10.651924        SNIa  \n",
       "94                  4.406099        SNIa  \n",
       "95                  4.759942        SNIa  \n",
       "...                      ...         ...  \n",
       "917930              8.319171        SNIa  \n",
       "917931              8.267767        SNIa  \n",
       "917932              9.425640        SNIa  \n",
       "917933              9.234165        SNIa  \n",
       "917934              9.483954        SNIa  \n",
       "\n",
       "[321392 rows x 8 columns]"
      ]
     },
     "execution_count": 2,
     "metadata": {},
     "output_type": "execute_result"
    }
   ],
   "source": [
    "ztf_data = pd.read_pickle('data/ztf/data_created_for_SSL/lc_clean_labeled.pkl')\n",
    "ztf_data"
   ]
  },
  {
   "cell_type": "code",
   "execution_count": 3,
   "metadata": {},
   "outputs": [
    {
     "data": {
      "text/plain": [
       "(1426,)"
      ]
     },
     "execution_count": 3,
     "metadata": {},
     "output_type": "execute_result"
    }
   ],
   "source": [
    "ztf_data.oid.unique().shape"
   ]
  },
  {
   "cell_type": "code",
   "execution_count": 4,
   "metadata": {},
   "outputs": [],
   "source": [
    "maximo = [0,0,0,0]\n",
    "sn = ['', '', '', '']\n",
    "sn_with_one_band = []\n",
    "\n",
    "for id in ztf_data.oid.unique():\n",
    "    filter = ztf_data[ztf_data.oid == id]\n",
    "\n",
    "    cont = 0\n",
    "    for _max in maximo:\n",
    "        if _max < len(filter) and 200 < len(filter) < 500:\n",
    "            maximo[cont] = len(filter)\n",
    "            sn[cont] = id\n",
    "            break\n",
    "        cont += 1\n",
    "\n",
    "    if len(filter.fid.unique()) == 1:\n",
    "        sn_with_one_band.append(id)\n"
   ]
  },
  {
   "cell_type": "code",
   "execution_count": 5,
   "metadata": {},
   "outputs": [
    {
     "data": {
      "text/plain": [
       "[498, 497, 483, 480]"
      ]
     },
     "execution_count": 5,
     "metadata": {},
     "output_type": "execute_result"
    }
   ],
   "source": [
    "maximo"
   ]
  },
  {
   "cell_type": "code",
   "execution_count": 6,
   "metadata": {},
   "outputs": [
    {
     "data": {
      "text/plain": [
       "['ZTF19abpbopt', 'ZTF19acazbqm', 'ZTF19abrcvzz', 'ZTF19ackjjwf']"
      ]
     },
     "execution_count": 6,
     "metadata": {},
     "output_type": "execute_result"
    }
   ],
   "source": [
    "sn"
   ]
  },
  {
   "cell_type": "code",
   "execution_count": 7,
   "metadata": {},
   "outputs": [
    {
     "data": {
      "text/plain": [
       "161"
      ]
     },
     "execution_count": 7,
     "metadata": {},
     "output_type": "execute_result"
    }
   ],
   "source": [
    "len(sn_with_one_band)"
   ]
  },
  {
   "cell_type": "code",
   "execution_count": 8,
   "metadata": {},
   "outputs": [
    {
     "data": {
      "text/html": [
       "<div>\n",
       "<style scoped>\n",
       "    .dataframe tbody tr th:only-of-type {\n",
       "        vertical-align: middle;\n",
       "    }\n",
       "\n",
       "    .dataframe tbody tr th {\n",
       "        vertical-align: top;\n",
       "    }\n",
       "\n",
       "    .dataframe thead th {\n",
       "        text-align: right;\n",
       "    }\n",
       "</style>\n",
       "<table border=\"1\" class=\"dataframe\">\n",
       "  <thead>\n",
       "    <tr style=\"text-align: right;\">\n",
       "      <th></th>\n",
       "      <th>oid</th>\n",
       "      <th>mjd</th>\n",
       "      <th>ra</th>\n",
       "      <th>dec</th>\n",
       "      <th>fid</th>\n",
       "      <th>flux_tot_ujy</th>\n",
       "      <th>fluxunc_tot_ujy_resc</th>\n",
       "      <th>alerceclass</th>\n",
       "    </tr>\n",
       "  </thead>\n",
       "  <tbody>\n",
       "    <tr>\n",
       "      <th>41205</th>\n",
       "      <td>ZTF18aayjyub</td>\n",
       "      <td>58276.285139</td>\n",
       "      <td>200.116572</td>\n",
       "      <td>62.300819</td>\n",
       "      <td>r</td>\n",
       "      <td>32.354798</td>\n",
       "      <td>3.685375</td>\n",
       "      <td>SNIa</td>\n",
       "    </tr>\n",
       "    <tr>\n",
       "      <th>41208</th>\n",
       "      <td>ZTF18aayjyub</td>\n",
       "      <td>58279.262720</td>\n",
       "      <td>200.116572</td>\n",
       "      <td>62.300819</td>\n",
       "      <td>r</td>\n",
       "      <td>103.141803</td>\n",
       "      <td>3.705885</td>\n",
       "      <td>SNIa</td>\n",
       "    </tr>\n",
       "    <tr>\n",
       "      <th>41210</th>\n",
       "      <td>ZTF18aayjyub</td>\n",
       "      <td>58282.225370</td>\n",
       "      <td>200.116572</td>\n",
       "      <td>62.300819</td>\n",
       "      <td>r</td>\n",
       "      <td>223.924997</td>\n",
       "      <td>3.970525</td>\n",
       "      <td>SNIa</td>\n",
       "    </tr>\n",
       "    <tr>\n",
       "      <th>41214</th>\n",
       "      <td>ZTF18aayjyub</td>\n",
       "      <td>58288.261516</td>\n",
       "      <td>200.116572</td>\n",
       "      <td>62.300819</td>\n",
       "      <td>r</td>\n",
       "      <td>429.904104</td>\n",
       "      <td>5.285074</td>\n",
       "      <td>SNIa</td>\n",
       "    </tr>\n",
       "    <tr>\n",
       "      <th>41216</th>\n",
       "      <td>ZTF18aayjyub</td>\n",
       "      <td>58291.246667</td>\n",
       "      <td>200.116572</td>\n",
       "      <td>62.300819</td>\n",
       "      <td>r</td>\n",
       "      <td>464.166979</td>\n",
       "      <td>6.948023</td>\n",
       "      <td>SNIa</td>\n",
       "    </tr>\n",
       "    <tr>\n",
       "      <th>...</th>\n",
       "      <td>...</td>\n",
       "      <td>...</td>\n",
       "      <td>...</td>\n",
       "      <td>...</td>\n",
       "      <td>...</td>\n",
       "      <td>...</td>\n",
       "      <td>...</td>\n",
       "      <td>...</td>\n",
       "    </tr>\n",
       "    <tr>\n",
       "      <th>507484</th>\n",
       "      <td>ZTF19ackjjwf</td>\n",
       "      <td>59340.173819</td>\n",
       "      <td>120.708030</td>\n",
       "      <td>15.801539</td>\n",
       "      <td>g</td>\n",
       "      <td>13.679995</td>\n",
       "      <td>4.737701</td>\n",
       "      <td>nonSNIa</td>\n",
       "    </tr>\n",
       "    <tr>\n",
       "      <th>507485</th>\n",
       "      <td>ZTF19ackjjwf</td>\n",
       "      <td>59340.239572</td>\n",
       "      <td>120.708030</td>\n",
       "      <td>15.801539</td>\n",
       "      <td>r</td>\n",
       "      <td>17.728112</td>\n",
       "      <td>8.514254</td>\n",
       "      <td>nonSNIa</td>\n",
       "    </tr>\n",
       "    <tr>\n",
       "      <th>507486</th>\n",
       "      <td>ZTF19ackjjwf</td>\n",
       "      <td>59342.217477</td>\n",
       "      <td>120.708030</td>\n",
       "      <td>15.801539</td>\n",
       "      <td>g</td>\n",
       "      <td>20.031179</td>\n",
       "      <td>6.768750</td>\n",
       "      <td>nonSNIa</td>\n",
       "    </tr>\n",
       "    <tr>\n",
       "      <th>507487</th>\n",
       "      <td>ZTF19ackjjwf</td>\n",
       "      <td>59344.186181</td>\n",
       "      <td>120.708030</td>\n",
       "      <td>15.801539</td>\n",
       "      <td>g</td>\n",
       "      <td>17.688054</td>\n",
       "      <td>4.255524</td>\n",
       "      <td>nonSNIa</td>\n",
       "    </tr>\n",
       "    <tr>\n",
       "      <th>507488</th>\n",
       "      <td>ZTF19ackjjwf</td>\n",
       "      <td>59344.198229</td>\n",
       "      <td>120.708030</td>\n",
       "      <td>15.801539</td>\n",
       "      <td>r</td>\n",
       "      <td>28.868889</td>\n",
       "      <td>6.074003</td>\n",
       "      <td>nonSNIa</td>\n",
       "    </tr>\n",
       "  </tbody>\n",
       "</table>\n",
       "<p>2010 rows × 8 columns</p>\n",
       "</div>"
      ],
      "text/plain": [
       "                 oid           mjd          ra        dec fid  flux_tot_ujy  \\\n",
       "41205   ZTF18aayjyub  58276.285139  200.116572  62.300819   r     32.354798   \n",
       "41208   ZTF18aayjyub  58279.262720  200.116572  62.300819   r    103.141803   \n",
       "41210   ZTF18aayjyub  58282.225370  200.116572  62.300819   r    223.924997   \n",
       "41214   ZTF18aayjyub  58288.261516  200.116572  62.300819   r    429.904104   \n",
       "41216   ZTF18aayjyub  58291.246667  200.116572  62.300819   r    464.166979   \n",
       "...              ...           ...         ...        ...  ..           ...   \n",
       "507484  ZTF19ackjjwf  59340.173819  120.708030  15.801539   g     13.679995   \n",
       "507485  ZTF19ackjjwf  59340.239572  120.708030  15.801539   r     17.728112   \n",
       "507486  ZTF19ackjjwf  59342.217477  120.708030  15.801539   g     20.031179   \n",
       "507487  ZTF19ackjjwf  59344.186181  120.708030  15.801539   g     17.688054   \n",
       "507488  ZTF19ackjjwf  59344.198229  120.708030  15.801539   r     28.868889   \n",
       "\n",
       "        fluxunc_tot_ujy_resc alerceclass  \n",
       "41205               3.685375        SNIa  \n",
       "41208               3.705885        SNIa  \n",
       "41210               3.970525        SNIa  \n",
       "41214               5.285074        SNIa  \n",
       "41216               6.948023        SNIa  \n",
       "...                      ...         ...  \n",
       "507484              4.737701     nonSNIa  \n",
       "507485              8.514254     nonSNIa  \n",
       "507486              6.768750     nonSNIa  \n",
       "507487              4.255524     nonSNIa  \n",
       "507488              6.074003     nonSNIa  \n",
       "\n",
       "[2010 rows x 8 columns]"
      ]
     },
     "execution_count": 8,
     "metadata": {},
     "output_type": "execute_result"
    }
   ],
   "source": [
    "toy = ['ZTF19acazbqm', sn_with_one_band[0], 'ZTF19abrcvzz', 'ZTF19ackjjwf', sn_with_one_band[3]]\n",
    "\n",
    "ztf_toy = ztf_data[ztf_data.oid.isin(toy)]\n",
    "ztf_toy"
   ]
  },
  {
   "cell_type": "code",
   "execution_count": 14,
   "metadata": {},
   "outputs": [
    {
     "data": {
      "text/html": [
       "<div>\n",
       "<style scoped>\n",
       "    .dataframe tbody tr th:only-of-type {\n",
       "        vertical-align: middle;\n",
       "    }\n",
       "\n",
       "    .dataframe tbody tr th {\n",
       "        vertical-align: top;\n",
       "    }\n",
       "\n",
       "    .dataframe thead th {\n",
       "        text-align: right;\n",
       "    }\n",
       "</style>\n",
       "<table border=\"1\" class=\"dataframe\">\n",
       "  <thead>\n",
       "    <tr style=\"text-align: right;\">\n",
       "      <th></th>\n",
       "      <th>oid</th>\n",
       "      <th>mjd</th>\n",
       "      <th>ra</th>\n",
       "      <th>dec</th>\n",
       "      <th>fid</th>\n",
       "      <th>flux_tot_ujy</th>\n",
       "      <th>fluxunc_tot_ujy_resc</th>\n",
       "      <th>alerceclass</th>\n",
       "    </tr>\n",
       "  </thead>\n",
       "  <tbody>\n",
       "    <tr>\n",
       "      <th>41205</th>\n",
       "      <td>ZTF18aayjyub</td>\n",
       "      <td>58276.285139</td>\n",
       "      <td>200.116572</td>\n",
       "      <td>62.300819</td>\n",
       "      <td>r</td>\n",
       "      <td>32.354798</td>\n",
       "      <td>3.685375</td>\n",
       "      <td>SNIa</td>\n",
       "    </tr>\n",
       "    <tr>\n",
       "      <th>41208</th>\n",
       "      <td>ZTF18aayjyub</td>\n",
       "      <td>58279.262720</td>\n",
       "      <td>200.116572</td>\n",
       "      <td>62.300819</td>\n",
       "      <td>r</td>\n",
       "      <td>103.141803</td>\n",
       "      <td>3.705885</td>\n",
       "      <td>SNIa</td>\n",
       "    </tr>\n",
       "    <tr>\n",
       "      <th>41210</th>\n",
       "      <td>ZTF18aayjyub</td>\n",
       "      <td>58282.225370</td>\n",
       "      <td>200.116572</td>\n",
       "      <td>62.300819</td>\n",
       "      <td>r</td>\n",
       "      <td>223.924997</td>\n",
       "      <td>3.970525</td>\n",
       "      <td>SNIa</td>\n",
       "    </tr>\n",
       "    <tr>\n",
       "      <th>41214</th>\n",
       "      <td>ZTF18aayjyub</td>\n",
       "      <td>58288.261516</td>\n",
       "      <td>200.116572</td>\n",
       "      <td>62.300819</td>\n",
       "      <td>r</td>\n",
       "      <td>429.904104</td>\n",
       "      <td>5.285074</td>\n",
       "      <td>SNIa</td>\n",
       "    </tr>\n",
       "    <tr>\n",
       "      <th>41216</th>\n",
       "      <td>ZTF18aayjyub</td>\n",
       "      <td>58291.246667</td>\n",
       "      <td>200.116572</td>\n",
       "      <td>62.300819</td>\n",
       "      <td>r</td>\n",
       "      <td>464.166979</td>\n",
       "      <td>6.948023</td>\n",
       "      <td>SNIa</td>\n",
       "    </tr>\n",
       "    <tr>\n",
       "      <th>...</th>\n",
       "      <td>...</td>\n",
       "      <td>...</td>\n",
       "      <td>...</td>\n",
       "      <td>...</td>\n",
       "      <td>...</td>\n",
       "      <td>...</td>\n",
       "      <td>...</td>\n",
       "      <td>...</td>\n",
       "    </tr>\n",
       "    <tr>\n",
       "      <th>41895</th>\n",
       "      <td>ZTF18aayjyub</td>\n",
       "      <td>59400.218090</td>\n",
       "      <td>200.116572</td>\n",
       "      <td>62.300819</td>\n",
       "      <td>r</td>\n",
       "      <td>1.408048</td>\n",
       "      <td>3.886695</td>\n",
       "      <td>SNIa</td>\n",
       "    </tr>\n",
       "    <tr>\n",
       "      <th>41897</th>\n",
       "      <td>ZTF18aayjyub</td>\n",
       "      <td>59402.236435</td>\n",
       "      <td>200.116572</td>\n",
       "      <td>62.300819</td>\n",
       "      <td>r</td>\n",
       "      <td>2.484901</td>\n",
       "      <td>3.760553</td>\n",
       "      <td>SNIa</td>\n",
       "    </tr>\n",
       "    <tr>\n",
       "      <th>41899</th>\n",
       "      <td>ZTF18aayjyub</td>\n",
       "      <td>59404.219340</td>\n",
       "      <td>200.116572</td>\n",
       "      <td>62.300819</td>\n",
       "      <td>r</td>\n",
       "      <td>-3.901612</td>\n",
       "      <td>3.228729</td>\n",
       "      <td>SNIa</td>\n",
       "    </tr>\n",
       "    <tr>\n",
       "      <th>41902</th>\n",
       "      <td>ZTF18aayjyub</td>\n",
       "      <td>59406.246806</td>\n",
       "      <td>200.116572</td>\n",
       "      <td>62.300819</td>\n",
       "      <td>r</td>\n",
       "      <td>-1.219713</td>\n",
       "      <td>5.039103</td>\n",
       "      <td>SNIa</td>\n",
       "    </tr>\n",
       "    <tr>\n",
       "      <th>41904</th>\n",
       "      <td>ZTF18aayjyub</td>\n",
       "      <td>59408.237616</td>\n",
       "      <td>200.116572</td>\n",
       "      <td>62.300819</td>\n",
       "      <td>r</td>\n",
       "      <td>1.301034</td>\n",
       "      <td>5.664091</td>\n",
       "      <td>SNIa</td>\n",
       "    </tr>\n",
       "  </tbody>\n",
       "</table>\n",
       "<p>335 rows × 8 columns</p>\n",
       "</div>"
      ],
      "text/plain": [
       "                oid           mjd          ra        dec fid  flux_tot_ujy  \\\n",
       "41205  ZTF18aayjyub  58276.285139  200.116572  62.300819   r     32.354798   \n",
       "41208  ZTF18aayjyub  58279.262720  200.116572  62.300819   r    103.141803   \n",
       "41210  ZTF18aayjyub  58282.225370  200.116572  62.300819   r    223.924997   \n",
       "41214  ZTF18aayjyub  58288.261516  200.116572  62.300819   r    429.904104   \n",
       "41216  ZTF18aayjyub  58291.246667  200.116572  62.300819   r    464.166979   \n",
       "...             ...           ...         ...        ...  ..           ...   \n",
       "41895  ZTF18aayjyub  59400.218090  200.116572  62.300819   r      1.408048   \n",
       "41897  ZTF18aayjyub  59402.236435  200.116572  62.300819   r      2.484901   \n",
       "41899  ZTF18aayjyub  59404.219340  200.116572  62.300819   r     -3.901612   \n",
       "41902  ZTF18aayjyub  59406.246806  200.116572  62.300819   r     -1.219713   \n",
       "41904  ZTF18aayjyub  59408.237616  200.116572  62.300819   r      1.301034   \n",
       "\n",
       "       fluxunc_tot_ujy_resc alerceclass  \n",
       "41205              3.685375        SNIa  \n",
       "41208              3.705885        SNIa  \n",
       "41210              3.970525        SNIa  \n",
       "41214              5.285074        SNIa  \n",
       "41216              6.948023        SNIa  \n",
       "...                     ...         ...  \n",
       "41895              3.886695        SNIa  \n",
       "41897              3.760553        SNIa  \n",
       "41899              3.228729        SNIa  \n",
       "41902              5.039103        SNIa  \n",
       "41904              5.664091        SNIa  \n",
       "\n",
       "[335 rows x 8 columns]"
      ]
     },
     "execution_count": 14,
     "metadata": {},
     "output_type": "execute_result"
    }
   ],
   "source": [
    "ztf_toy[ztf_toy.oid == sn_with_one_band[0]]"
   ]
  },
  {
   "cell_type": "code",
   "execution_count": 21,
   "metadata": {},
   "outputs": [],
   "source": [
    "ztf_toy.to_pickle('ztf_toy.pkl')"
   ]
  },
  {
   "cell_type": "code",
   "execution_count": 7,
   "metadata": {},
   "outputs": [],
   "source": [
    "key_types = {'SNIa': 0, 'nonSNIa': 1}"
   ]
  },
  {
   "cell_type": "code",
   "execution_count": 12,
   "metadata": {},
   "outputs": [
    {
     "data": {
      "text/plain": [
       "[1]"
      ]
     },
     "execution_count": 12,
     "metadata": {},
     "output_type": "execute_result"
    }
   ],
   "source": [
    "unblind = [key_types['nonSNIa']]\n",
    "unblind"
   ]
  },
  {
   "cell_type": "code",
   "execution_count": 9,
   "metadata": {},
   "outputs": [],
   "source": [
    "sn_types = {}"
   ]
  },
  {
   "cell_type": "code",
   "execution_count": 13,
   "metadata": {},
   "outputs": [],
   "source": [
    "sn_types[unblind[0]] = 0"
   ]
  },
  {
   "cell_type": "code",
   "execution_count": 14,
   "metadata": {},
   "outputs": [
    {
     "data": {
      "text/plain": [
       "{0: 0, 1: 0}"
      ]
     },
     "execution_count": 14,
     "metadata": {},
     "output_type": "execute_result"
    }
   ],
   "source": [
    "sn_types"
   ]
  },
  {
   "cell_type": "code",
   "execution_count": null,
   "metadata": {},
   "outputs": [],
   "source": [
    "sn_types"
   ]
  },
  {
   "cell_type": "code",
   "execution_count": 15,
   "metadata": {},
   "outputs": [
    {
     "name": "stdout",
     "output_type": "stream",
     "text": [
      "Processing data...\n",
      "Supernova: ZTF19ackjjwf - it 0\n",
      "Supernova: ZTF19acazbqm - it 1\n",
      "Supernova: ZTF18aayjyub - it 2\n",
      "Supernova: ZTF19abrcvzz - it 3\n",
      "Supernova: ZTF18abscyjj - it 4\n",
      "Num train:  5\n",
      "SN types:  {1: 2, 0: 3}\n"
     ]
    },
    {
     "data": {
      "text/plain": [
       "<preprocess.CharnockPreprocess at 0x28b0c94f6a0>"
      ]
     },
     "execution_count": 15,
     "metadata": {},
     "output_type": "execute_result"
    }
   ],
   "source": [
    "import preprocess\n",
    "\n",
    "# Creación de los datos del ZTF para todos los puntos de la banda g y r\n",
    "key_types = {'SNIa': 0, 'nonSNIa': 1}\n",
    "#key_types = {'Ia':0, 'II':1, 'Ibc':1, 'IIn':1, 'IIP':1, 'IIL':1, 'Ib':1, 'Ic':1}\n",
    "#path_data = 'data/ztf/lc_from_first_mjd_forced_fot.pkl'\n",
    "path_data = 'ztf_toy.pkl'\n",
    "#path_data = \"data/spcc/spcc_data_in_format.pkl\"\n",
    "path_save = 'data/ztf'\n",
    "bands_name = ['g', 'r']\n",
    "num_augments = 5\n",
    "normalize = False\n",
    "reproduce_charnock = False\n",
    "\n",
    "preprocess.CharnockPreprocess(key_types, path_data, path_save, bands_name, num_augments, normalize, reproduce_charnock)"
   ]
  },
  {
   "cell_type": "code",
   "execution_count": 6,
   "metadata": {},
   "outputs": [],
   "source": [
    "tupla = (key_types, path_data, path_save, bands_name, num_augments, normalize, reproduce_paper)"
   ]
  },
  {
   "cell_type": "code",
   "execution_count": 14,
   "metadata": {},
   "outputs": [],
   "source": [
    "def function(args):\n",
    "    print(\"entro\")\n",
    "    preprocess.CharnockPreprocess(args[0], args[1], args[2], args[3], args[4], args[5], args[6])"
   ]
  },
  {
   "cell_type": "code",
   "execution_count": null,
   "metadata": {},
   "outputs": [],
   "source": []
  },
  {
   "cell_type": "code",
   "execution_count": 76,
   "metadata": {},
   "outputs": [],
   "source": [
    "from multiprocessing import Pool\n",
    "\n",
    "if __name__ == '__main__':\n",
    "    p = Pool(processes=4)\n",
    "    datos = p.map(function, tupla)\n",
    "    p.close()\n",
    "    print(datos)"
   ]
  },
  {
   "cell_type": "code",
   "execution_count": 8,
   "metadata": {},
   "outputs": [],
   "source": [
    "from multiprocessing import Process\n",
    "\n",
    "procesos = []"
   ]
  },
  {
   "cell_type": "code",
   "execution_count": 9,
   "metadata": {},
   "outputs": [],
   "source": [
    "for n in range(4):\n",
    "    proceso = Process(target=function, args=(tupla,))\n",
    "    procesos.append(proceso)"
   ]
  },
  {
   "cell_type": "code",
   "execution_count": 10,
   "metadata": {},
   "outputs": [
    {
     "data": {
      "text/plain": [
       "[<Process name='Process-1' parent=30380 initial>,\n",
       " <Process name='Process-2' parent=30380 initial>,\n",
       " <Process name='Process-3' parent=30380 initial>,\n",
       " <Process name='Process-4' parent=30380 initial>]"
      ]
     },
     "execution_count": 10,
     "metadata": {},
     "output_type": "execute_result"
    }
   ],
   "source": [
    "procesos"
   ]
  },
  {
   "cell_type": "code",
   "execution_count": 11,
   "metadata": {},
   "outputs": [
    {
     "name": "stdout",
     "output_type": "stream",
     "text": [
      "------- Espera\n"
     ]
    }
   ],
   "source": [
    "for proceso in procesos:\n",
    "    proceso.start()\n",
    "\n",
    "print(\"------- Espera\")\n",
    "for proceso in procesos:\n",
    "    proceso.join()"
   ]
  },
  {
   "cell_type": "code",
   "execution_count": 15,
   "metadata": {},
   "outputs": [],
   "source": [
    "import concurrent.futures\n",
    "\n",
    "with concurrent.futures.ProcessPoolExecutor() as executor:\n",
    "    executor.submit(function, tupla)"
   ]
  },
  {
   "cell_type": "code",
   "execution_count": 16,
   "metadata": {},
   "outputs": [
    {
     "data": {
      "text/plain": [
       "<concurrent.futures.process.ProcessPoolExecutor at 0x19c72571610>"
      ]
     },
     "execution_count": 16,
     "metadata": {},
     "output_type": "execute_result"
    }
   ],
   "source": [
    "executor"
   ]
  },
  {
   "cell_type": "code",
   "execution_count": null,
   "metadata": {},
   "outputs": [],
   "source": []
  }
 ],
 "metadata": {
  "interpreter": {
   "hash": "123efad65aef48af9dc896bb2f0f4d5d58cb56f7387c7ec6444b49af01d4449b"
  },
  "kernelspec": {
   "display_name": "Python 3.9.7 ('base')",
   "language": "python",
   "name": "python3"
  },
  "language_info": {
   "codemirror_mode": {
    "name": "ipython",
    "version": 3
   },
   "file_extension": ".py",
   "mimetype": "text/x-python",
   "name": "python",
   "nbconvert_exporter": "python",
   "pygments_lexer": "ipython3",
   "version": "3.9.7"
  },
  "orig_nbformat": 4
 },
 "nbformat": 4,
 "nbformat_minor": 2
}
