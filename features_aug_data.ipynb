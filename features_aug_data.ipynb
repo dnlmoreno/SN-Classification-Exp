{
 "cells": [
  {
   "cell_type": "code",
   "execution_count": 1,
   "metadata": {},
   "outputs": [],
   "source": [
    "## ELiminar un par de puntos de alguna o de las dos bandas de manera aleatoria\n",
    "# --> Tener la misma curva con 6 puntos menos\n",
    "# --> Tener la misma curva con 8 distintos puntos menos\n",
    "# Estas curvas hago matchear en el espacio"
   ]
  },
  {
   "cell_type": "code",
   "execution_count": 2,
   "metadata": {},
   "outputs": [],
   "source": [
    "## Tengo el flujo y el error\n",
    "## Asumiendo que el flujo se distribuye normal (gaussiano), se puede samplear un nuevo flujo\n",
    "## a partir de la media que es el flujo y de la desviación que es el error\n",
    "# --> Tener la misma curva con algunos flujos sampleados (ligeramente diferente)\n",
    "\n",
    "# Que no se este rompiendo ninguna propiedad fisica al eliminar un punto o al samplear. \n",
    "# Por ejemplo un umbral fisico de ser mayor que algo"
   ]
  },
  {
   "cell_type": "code",
   "execution_count": 3,
   "metadata": {},
   "outputs": [],
   "source": [
    "## Knowledge distilitation BRF - NN\n",
    "## Feature aumentation (En teoria el clasificador deberia funcionar un poco mejor con esta aumentación)\n",
    "## Contrastive learning\n",
    "## Consistency + contrastive\n",
    "\n",
    "\n",
    "## Tengo duda sobre le Knowledge distilitation, porque necesito el modelo para ponerle la temperatura\n",
    "# - Con las probabilidades del modelo BRF y un cierto threshold genero los soft label de la data unlabeled\n",
    "# - "
   ]
  },
  {
   "cell_type": "code",
   "execution_count": 4,
   "metadata": {},
   "outputs": [],
   "source": [
    "import pandas as pd"
   ]
  },
  {
   "cell_type": "code",
   "execution_count": null,
   "metadata": {},
   "outputs": [],
   "source": [
    "features_augmentation = pd.read_pickle('../lc_clean_labeled.pkl')"
   ]
  },
  {
   "cell_type": "code",
   "execution_count": null,
   "metadata": {},
   "outputs": [],
   "source": []
  }
 ],
 "metadata": {
  "interpreter": {
   "hash": "123efad65aef48af9dc896bb2f0f4d5d58cb56f7387c7ec6444b49af01d4449b"
  },
  "kernelspec": {
   "display_name": "Python 3.9.7 ('base')",
   "language": "python",
   "name": "python3"
  },
  "language_info": {
   "codemirror_mode": {
    "name": "ipython",
    "version": 3
   },
   "file_extension": ".py",
   "mimetype": "text/x-python",
   "name": "python",
   "nbconvert_exporter": "python",
   "pygments_lexer": "ipython3",
   "version": "3.9.7"
  },
  "orig_nbformat": 4
 },
 "nbformat": 4,
 "nbformat_minor": 2
}
