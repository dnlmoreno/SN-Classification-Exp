{
 "cells": [
  {
   "cell_type": "code",
   "execution_count": null,
   "metadata": {},
   "outputs": [],
   "source": [
    "import random\n",
    "import os\n",
    "\n",
    "import torch\n",
    "import numpy as np\n",
    "import pandas as pd"
   ]
  },
  {
   "cell_type": "markdown",
   "metadata": {},
   "source": [
    "## Lectura de datos"
   ]
  },
  {
   "cell_type": "code",
   "execution_count": null,
   "metadata": {},
   "outputs": [],
   "source": [
    "# Lectura de los datos procesados\n",
    "path_data = os.path.abspath('data/ztf/supervised/charnock_preprocessed/unblind_hostz.csv')\n",
    "num_augments = 5\n",
    "\n",
    "# 0: supernovas tipo Ia\n",
    "# 1: supernovas tipo NonIa\n",
    "sn1a_classifier = {1:0, 2:1, 3:1, 21:1, 22:1, 23:1, 32:1, 33:1}\n",
    "\n",
    "\n",
    "ztf_charnock_lc = pd.read_csv(path_data, header=None, sep=\",\")\n",
    "ztf_charnock_lc.columns = ['oid', 'mjd', 'ra', 'decl', 'g_flux', 'r_flux', 'g_error', 'r_error', 'class']\n",
    "\n",
    "print(f\"Cantidad de observaciones en el unblind_nohostz: {len(ztf_charnock_lc)}\")\n",
    "print(f\"Cantidad de supernovas: {len(set(ztf_charnock_lc.oid))}\")"
   ]
  },
  {
   "cell_type": "markdown",
   "metadata": {},
   "source": []
  }
 ],
 "metadata": {
  "language_info": {
   "name": "python"
  },
  "orig_nbformat": 4
 },
 "nbformat": 4,
 "nbformat_minor": 2
}
